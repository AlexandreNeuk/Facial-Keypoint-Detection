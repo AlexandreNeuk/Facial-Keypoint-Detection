{
 "cells": [
  {
   "cell_type": "code",
   "execution_count": 4,
   "metadata": {},
   "outputs": [],
   "source": [
    "import numpy as np\n",
    "import pandas as pd\n",
    "from sklearn.model_selection import train_test_split \n",
    "import matplotlib.patches as mpatches\n",
    "from matplotlib import pyplot as plt\n",
    "import random\n",
    "\n",
    "import sys\n",
    "import matplotlib\n",
    "import sklearn\n",
    "import numpy\n",
    "import keras\n",
    "import tensorflow as tf \n",
    "from keras.layers import Dense, Flatten, BatchNormalization, Dropout, Convolution2D, MaxPool2D\n",
    "from keras.layers.advanced_activations import LeakyReLU\n",
    "from keras.models import Sequential\n",
    "from keras.optimizers import Adam"
   ]
  },
  {
   "cell_type": "code",
   "execution_count": 5,
   "metadata": {},
   "outputs": [
    {
     "name": "stdout",
     "output_type": "stream",
     "text": [
      "Versão Python  3.6.10 |Anaconda, Inc.| (default, Jan  7 2020, 15:18:16) [MSC v.1916 64 bit (AMD64)]\n",
      "Versão Numpy  1.17.4\n",
      "Versão Pandas  0.25.3\n",
      "Versão Matplotlib  3.1.2\n",
      "Versão Sklearn  0.22.1\n",
      "Versão Keras 2.3.1\n",
      "Versão TensorFlow 2.0.0\n"
     ]
    }
   ],
   "source": [
    "print('Versão Python ', sys.version)\n",
    "print('Versão Numpy ', numpy.version.version)\n",
    "print('Versão Pandas ', pd.__version__)\n",
    "print('Versão Matplotlib ', matplotlib.__version__)\n",
    "print('Versão Sklearn ', sklearn.__version__)\n",
    "print('Versão Keras', keras.__version__)\n",
    "print('Versão TensorFlow', tf.__version__)"
   ]
  },
  {
   "cell_type": "markdown",
   "metadata": {},
   "source": [
    "#### Importando os dados"
   ]
  },
  {
   "cell_type": "code",
   "execution_count": 34,
   "metadata": {},
   "outputs": [],
   "source": [
    "IdLookupTable = pd.read_csv('IdLookupTable.csv')\n",
    "SampleSubmission = pd.read_csv('SampleSubmission.csv')\n",
    "training = pd.read_csv('training.csv')\n",
    "test = pd.read_csv('test.csv')"
   ]
  },
  {
   "cell_type": "markdown",
   "metadata": {},
   "source": [
    "#### Remoção de registros com dados faltantes"
   ]
  },
  {
   "cell_type": "code",
   "execution_count": 7,
   "metadata": {},
   "outputs": [],
   "source": [
    "training = training.dropna()"
   ]
  },
  {
   "cell_type": "markdown",
   "metadata": {},
   "source": [
    "#### Verificação do número de registros e colunas após aplicação de dropna"
   ]
  },
  {
   "cell_type": "code",
   "execution_count": 8,
   "metadata": {},
   "outputs": [
    {
     "data": {
      "text/plain": [
       "(2140, 31)"
      ]
     },
     "execution_count": 8,
     "metadata": {},
     "output_type": "execute_result"
    }
   ],
   "source": [
    "training.shape"
   ]
  },
  {
   "cell_type": "markdown",
   "metadata": {},
   "source": [
    "#### Convertendo os dados de cada imagem para uma matriz de inteiros e remodelando para uma matriz de dimsão 96x96"
   ]
  },
  {
   "cell_type": "code",
   "execution_count": 9,
   "metadata": {},
   "outputs": [],
   "source": [
    "training['Image'] = training['Image'].apply(lambda x: np.fromstring(x, dtype=int, sep=' ').reshape((96,96)))"
   ]
  },
  {
   "cell_type": "markdown",
   "metadata": {},
   "source": [
    "#### Convertendo os dados da imagem em array e atribuindo para variável X"
   ]
  },
  {
   "cell_type": "code",
   "execution_count": 10,
   "metadata": {},
   "outputs": [],
   "source": [
    "X = np.asarray([training['Image']], dtype=np.uint8).reshape(training.shape[0],96,96,1)"
   ]
  },
  {
   "cell_type": "markdown",
   "metadata": {},
   "source": [
    "#### Cria um novo dataset chamado y, removendo a feature \"Imagem\""
   ]
  },
  {
   "cell_type": "code",
   "execution_count": 11,
   "metadata": {},
   "outputs": [],
   "source": [
    "y = training.drop(['Image'], axis=1)"
   ]
  },
  {
   "cell_type": "markdown",
   "metadata": {},
   "source": [
    "#### Cria a variável y_ndarray convertendo a variável y para numpy.ndarray"
   ]
  },
  {
   "cell_type": "code",
   "execution_count": 12,
   "metadata": {},
   "outputs": [],
   "source": [
    "y_ndarray = y.to_numpy()"
   ]
  },
  {
   "cell_type": "markdown",
   "metadata": {},
   "source": [
    "#### Divide os dados do dataset em subconjuntos aleatórios de treino e teste"
   ]
  },
  {
   "cell_type": "code",
   "execution_count": 13,
   "metadata": {},
   "outputs": [],
   "source": [
    "X_train, X_test, y_train, y_test = train_test_split(X, y_ndarray, test_size=0.3, random_state=42)"
   ]
  },
  {
   "cell_type": "markdown",
   "metadata": {},
   "source": [
    "#### Criação da variável do tipo sequential\n",
    "https://keras.io/models/sequential/"
   ]
  },
  {
   "cell_type": "code",
   "execution_count": 14,
   "metadata": {},
   "outputs": [],
   "source": [
    "model = Sequential()"
   ]
  },
  {
   "cell_type": "markdown",
   "metadata": {},
   "source": [
    "#### Função para criar as camadas da rede neural convulacional\n",
    "&nbsp;&nbsp;&nbsp;&nbsp;&nbsp;&nbsp;&nbsp;Convolution2D: https://keras.io/layers/convolutional/#conv2d <br/>\n",
    "&nbsp;&nbsp;&nbsp;&nbsp;&nbsp;&nbsp;&nbsp;&nbsp;&nbsp;&nbsp;&nbsp;&nbsp;LeakyReLU: https://keras.io/layers/advanced-activations/#leakyrelu <br/>\n",
    "BatchNormalization: https://keras.io/layers/normalization/#batchnormalization <br/>\n",
    "&nbsp;&nbsp;&nbsp;&nbsp;&nbsp;&nbsp;&nbsp;&nbsp;&nbsp;&nbsp;&nbsp;&nbsp;MaxPool2D: https://keras.io/layers/pooling/#maxpooling2d\n",
    " "
   ]
  },
  {
   "cell_type": "code",
   "execution_count": 15,
   "metadata": {},
   "outputs": [],
   "source": [
    "def create_layer(model, filters, maxpooling, *inputshape):\n",
    "    if inputshape:\n",
    "        model.add(Convolution2D(filters, (3,3), padding='same', use_bias=False, input_shape=(96,96,1)))\n",
    "        model.add(LeakyReLU(alpha = 0.1))\n",
    "        model.add(BatchNormalization())\n",
    "    else:\n",
    "      if maxpooling:\n",
    "        model.add(Convolution2D(filters, (3,3), padding='same', use_bias=False))\n",
    "        model.add(LeakyReLU(alpha = 0.1))\n",
    "        model.add(BatchNormalization())\n",
    "        model.add(MaxPool2D(pool_size=(2, 2)))\n",
    "      else:\n",
    "        model.add(Convolution2D(filters, (3,3), padding='same', use_bias=False))\n",
    "        model.add(LeakyReLU(alpha = 0.1))\n",
    "        model.add(BatchNormalization())\n",
    "    "
   ]
  },
  {
   "cell_type": "markdown",
   "metadata": {},
   "source": [
    "#### Cria a primeira camada com inut_shape"
   ]
  },
  {
   "cell_type": "code",
   "execution_count": 16,
   "metadata": {},
   "outputs": [],
   "source": [
    "create_layer(model, 32, False, True)"
   ]
  },
  {
   "cell_type": "markdown",
   "metadata": {},
   "source": [
    "#### Cria as camadas ocultas"
   ]
  },
  {
   "cell_type": "code",
   "execution_count": 17,
   "metadata": {},
   "outputs": [],
   "source": [
    "create_layer(model, 32, True)\n",
    "create_layer(model, 64, False)\n",
    "create_layer(model, 64, True)\n",
    "create_layer(model, 128, False)\n",
    "create_layer(model, 128, True)\n",
    "create_layer(model, 256, False)\n",
    "create_layer(model, 256, True)\n",
    "create_layer(model, 512, False)\n",
    "create_layer(model, 512, True)"
   ]
  },
  {
   "cell_type": "markdown",
   "metadata": {},
   "source": [
    "#### Cria as camadas ocultas"
   ]
  },
  {
   "cell_type": "code",
   "execution_count": 18,
   "metadata": {},
   "outputs": [],
   "source": [
    "model.add(Flatten())\n",
    "model.add(Dense(512, activation='relu'))\n",
    "model.add(Dropout(0.1))\n",
    "model.add(Dense(30))"
   ]
  },
  {
   "cell_type": "markdown",
   "metadata": {},
   "source": [
    "#### Visualiza o resumo do modelo criado"
   ]
  },
  {
   "cell_type": "code",
   "execution_count": 19,
   "metadata": {},
   "outputs": [
    {
     "name": "stdout",
     "output_type": "stream",
     "text": [
      "Model: \"sequential_1\"\n",
      "_________________________________________________________________\n",
      "Layer (type)                 Output Shape              Param #   \n",
      "=================================================================\n",
      "conv2d_1 (Conv2D)            (None, 96, 96, 32)        288       \n",
      "_________________________________________________________________\n",
      "leaky_re_lu_1 (LeakyReLU)    (None, 96, 96, 32)        0         \n",
      "_________________________________________________________________\n",
      "batch_normalization_1 (Batch (None, 96, 96, 32)        128       \n",
      "_________________________________________________________________\n",
      "conv2d_2 (Conv2D)            (None, 96, 96, 32)        9216      \n",
      "_________________________________________________________________\n",
      "leaky_re_lu_2 (LeakyReLU)    (None, 96, 96, 32)        0         \n",
      "_________________________________________________________________\n",
      "batch_normalization_2 (Batch (None, 96, 96, 32)        128       \n",
      "_________________________________________________________________\n",
      "max_pooling2d_1 (MaxPooling2 (None, 48, 48, 32)        0         \n",
      "_________________________________________________________________\n",
      "conv2d_3 (Conv2D)            (None, 48, 48, 64)        18432     \n",
      "_________________________________________________________________\n",
      "leaky_re_lu_3 (LeakyReLU)    (None, 48, 48, 64)        0         \n",
      "_________________________________________________________________\n",
      "batch_normalization_3 (Batch (None, 48, 48, 64)        256       \n",
      "_________________________________________________________________\n",
      "conv2d_4 (Conv2D)            (None, 48, 48, 64)        36864     \n",
      "_________________________________________________________________\n",
      "leaky_re_lu_4 (LeakyReLU)    (None, 48, 48, 64)        0         \n",
      "_________________________________________________________________\n",
      "batch_normalization_4 (Batch (None, 48, 48, 64)        256       \n",
      "_________________________________________________________________\n",
      "max_pooling2d_2 (MaxPooling2 (None, 24, 24, 64)        0         \n",
      "_________________________________________________________________\n",
      "conv2d_5 (Conv2D)            (None, 24, 24, 128)       73728     \n",
      "_________________________________________________________________\n",
      "leaky_re_lu_5 (LeakyReLU)    (None, 24, 24, 128)       0         \n",
      "_________________________________________________________________\n",
      "batch_normalization_5 (Batch (None, 24, 24, 128)       512       \n",
      "_________________________________________________________________\n",
      "conv2d_6 (Conv2D)            (None, 24, 24, 128)       147456    \n",
      "_________________________________________________________________\n",
      "leaky_re_lu_6 (LeakyReLU)    (None, 24, 24, 128)       0         \n",
      "_________________________________________________________________\n",
      "batch_normalization_6 (Batch (None, 24, 24, 128)       512       \n",
      "_________________________________________________________________\n",
      "max_pooling2d_3 (MaxPooling2 (None, 12, 12, 128)       0         \n",
      "_________________________________________________________________\n",
      "conv2d_7 (Conv2D)            (None, 12, 12, 256)       294912    \n",
      "_________________________________________________________________\n",
      "leaky_re_lu_7 (LeakyReLU)    (None, 12, 12, 256)       0         \n",
      "_________________________________________________________________\n",
      "batch_normalization_7 (Batch (None, 12, 12, 256)       1024      \n",
      "_________________________________________________________________\n",
      "conv2d_8 (Conv2D)            (None, 12, 12, 256)       589824    \n",
      "_________________________________________________________________\n",
      "leaky_re_lu_8 (LeakyReLU)    (None, 12, 12, 256)       0         \n",
      "_________________________________________________________________\n",
      "batch_normalization_8 (Batch (None, 12, 12, 256)       1024      \n",
      "_________________________________________________________________\n",
      "max_pooling2d_4 (MaxPooling2 (None, 6, 6, 256)         0         \n",
      "_________________________________________________________________\n",
      "conv2d_9 (Conv2D)            (None, 6, 6, 512)         1179648   \n",
      "_________________________________________________________________\n",
      "leaky_re_lu_9 (LeakyReLU)    (None, 6, 6, 512)         0         \n",
      "_________________________________________________________________\n",
      "batch_normalization_9 (Batch (None, 6, 6, 512)         2048      \n",
      "_________________________________________________________________\n",
      "conv2d_10 (Conv2D)           (None, 6, 6, 512)         2359296   \n",
      "_________________________________________________________________\n",
      "leaky_re_lu_10 (LeakyReLU)   (None, 6, 6, 512)         0         \n",
      "_________________________________________________________________\n",
      "batch_normalization_10 (Batc (None, 6, 6, 512)         2048      \n",
      "_________________________________________________________________\n",
      "max_pooling2d_5 (MaxPooling2 (None, 3, 3, 512)         0         \n",
      "_________________________________________________________________\n",
      "flatten_1 (Flatten)          (None, 4608)              0         \n",
      "_________________________________________________________________\n",
      "dense_1 (Dense)              (None, 512)               2359808   \n",
      "_________________________________________________________________\n",
      "dropout_1 (Dropout)          (None, 512)               0         \n",
      "_________________________________________________________________\n",
      "dense_2 (Dense)              (None, 30)                15390     \n",
      "=================================================================\n",
      "Total params: 7,092,798\n",
      "Trainable params: 7,088,830\n",
      "Non-trainable params: 3,968\n",
      "_________________________________________________________________\n"
     ]
    }
   ],
   "source": [
    "model.summary()"
   ]
  },
  {
   "cell_type": "markdown",
   "metadata": {},
   "source": [
    "#### Configura o modelo para treinamento"
   ]
  },
  {
   "cell_type": "code",
   "execution_count": 20,
   "metadata": {},
   "outputs": [],
   "source": [
    "model.compile(optimizer='Adam', loss='mse', metrics=['mae'])"
   ]
  },
  {
   "cell_type": "markdown",
   "metadata": {},
   "source": [
    "#### Treina o modelo para um número fixo de épocas (iterações em um conjunto de dados)"
   ]
  },
  {
   "cell_type": "code",
   "execution_count": 31,
   "metadata": {},
   "outputs": [
    {
     "name": "stdout",
     "output_type": "stream",
     "text": [
      "Epoch 1/100\n",
      "1498/1498 [==============================] - 216s 144ms/step - loss: 3.6899 - mae: 1.4772\n",
      "Epoch 2/100\n",
      "1498/1498 [==============================] - 238s 159ms/step - loss: 3.6575 - mae: 1.4673\n",
      "Epoch 3/100\n",
      "1498/1498 [==============================] - 227s 152ms/step - loss: 3.8018 - mae: 1.4957\n",
      "Epoch 4/100\n",
      "1498/1498 [==============================] - 217s 145ms/step - loss: 4.0655 - mae: 1.5537\n",
      "Epoch 5/100\n",
      "1498/1498 [==============================] - 219s 146ms/step - loss: 3.9435 - mae: 1.5165\n",
      "Epoch 6/100\n",
      "1498/1498 [==============================] - 217s 145ms/step - loss: 4.7525 - mae: 1.6797\n",
      "Epoch 7/100\n",
      "1498/1498 [==============================] - 219s 146ms/step - loss: 3.7682 - mae: 1.4838\n",
      "Epoch 8/100\n",
      "1498/1498 [==============================] - 223s 149ms/step - loss: 4.3694 - mae: 1.6185\n",
      "Epoch 9/100\n",
      "1498/1498 [==============================] - 218s 145ms/step - loss: 4.7380 - mae: 1.6691\n",
      "Epoch 10/100\n",
      "1498/1498 [==============================] - 227s 151ms/step - loss: 3.6510 - mae: 1.4661\n",
      "Epoch 11/100\n",
      "1498/1498 [==============================] - 228s 152ms/step - loss: 3.5878 - mae: 1.4493\n",
      "Epoch 12/100\n",
      "1498/1498 [==============================] - 218s 145ms/step - loss: 4.3944 - mae: 1.6145\n",
      "Epoch 13/100\n",
      "1498/1498 [==============================] - 222s 149ms/step - loss: 4.3637 - mae: 1.6062\n",
      "Epoch 14/100\n",
      "1498/1498 [==============================] - 218s 145ms/step - loss: 3.6779 - mae: 1.4776\n",
      "Epoch 15/100\n",
      "1498/1498 [==============================] - 237s 158ms/step - loss: 3.5865 - mae: 1.4617\n",
      "Epoch 16/100\n",
      "1498/1498 [==============================] - 228s 152ms/step - loss: 3.9538 - mae: 1.5261\n",
      "Epoch 17/100\n",
      "1498/1498 [==============================] - 230s 153ms/step - loss: 4.5614 - mae: 1.6463\n",
      "Epoch 18/100\n",
      "1498/1498 [==============================] - 233s 155ms/step - loss: 3.5383 - mae: 1.4452\n",
      "Epoch 19/100\n",
      "1498/1498 [==============================] - 226s 151ms/step - loss: 3.9660 - mae: 1.5255\n",
      "Epoch 20/100\n",
      "1498/1498 [==============================] - 220s 147ms/step - loss: 3.8790 - mae: 1.5041\n",
      "Epoch 21/100\n",
      "1498/1498 [==============================] - 226s 151ms/step - loss: 4.4153 - mae: 1.6241\n",
      "Epoch 22/100\n",
      "1498/1498 [==============================] - 219s 146ms/step - loss: 3.7689 - mae: 1.4966\n",
      "Epoch 23/100\n",
      "1498/1498 [==============================] - 220s 147ms/step - loss: 3.5690 - mae: 1.4617\n",
      "Epoch 24/100\n",
      "1498/1498 [==============================] - 221s 147ms/step - loss: 3.6115 - mae: 1.4499\n",
      "Epoch 25/100\n",
      "1498/1498 [==============================] - 219s 146ms/step - loss: 3.3999 - mae: 1.4192\n",
      "Epoch 26/100\n",
      "1498/1498 [==============================] - 229s 153ms/step - loss: 3.6324 - mae: 1.4743\n",
      "Epoch 27/100\n",
      "1498/1498 [==============================] - 228s 152ms/step - loss: 3.3795 - mae: 1.4100\n",
      "Epoch 28/100\n",
      "1498/1498 [==============================] - 217s 145ms/step - loss: 3.9864 - mae: 1.5342\n",
      "Epoch 29/100\n",
      "1498/1498 [==============================] - 217s 145ms/step - loss: 3.5066 - mae: 1.4395\n",
      "Epoch 30/100\n",
      "1498/1498 [==============================] - 216s 144ms/step - loss: 3.3951 - mae: 1.4117\n",
      "Epoch 31/100\n",
      "1498/1498 [==============================] - 215s 144ms/step - loss: 5.1532 - mae: 1.7512\n",
      "Epoch 32/100\n",
      "1498/1498 [==============================] - 220s 147ms/step - loss: 3.7022 - mae: 1.4767\n",
      "Epoch 33/100\n",
      "1498/1498 [==============================] - 215s 143ms/step - loss: 3.5203 - mae: 1.4354\n",
      "Epoch 34/100\n",
      "1498/1498 [==============================] - 216s 144ms/step - loss: 4.0360 - mae: 1.5525\n",
      "Epoch 35/100\n",
      "1498/1498 [==============================] - 235s 157ms/step - loss: 3.5807 - mae: 1.4556\n",
      "Epoch 36/100\n",
      "1498/1498 [==============================] - 215s 144ms/step - loss: 3.6543 - mae: 1.4766\n",
      "Epoch 37/100\n",
      "1498/1498 [==============================] - 216s 144ms/step - loss: 4.1497 - mae: 1.5588\n",
      "Epoch 38/100\n",
      "1498/1498 [==============================] - 219s 146ms/step - loss: 3.7497 - mae: 1.4868\n",
      "Epoch 39/100\n",
      "1498/1498 [==============================] - 216s 144ms/step - loss: 3.4260 - mae: 1.4251\n",
      "Epoch 40/100\n",
      "1498/1498 [==============================] - 216s 144ms/step - loss: 3.5537 - mae: 1.4483\n",
      "Epoch 41/100\n",
      "1498/1498 [==============================] - 215s 144ms/step - loss: 3.2798 - mae: 1.3902\n",
      "Epoch 42/100\n",
      "1498/1498 [==============================] - 216s 144ms/step - loss: 3.7743 - mae: 1.4929\n",
      "Epoch 43/100\n",
      "1498/1498 [==============================] - 233s 155ms/step - loss: 3.6231 - mae: 1.4637\n",
      "Epoch 44/100\n",
      "1498/1498 [==============================] - 216s 144ms/step - loss: 3.9391 - mae: 1.5322\n",
      "Epoch 45/100\n",
      "1498/1498 [==============================] - 217s 145ms/step - loss: 4.0168 - mae: 1.5505\n",
      "Epoch 46/100\n",
      "1498/1498 [==============================] - 222s 148ms/step - loss: 3.4502 - mae: 1.4290\n",
      "Epoch 47/100\n",
      "1498/1498 [==============================] - 215s 144ms/step - loss: 3.5386 - mae: 1.4549\n",
      "Epoch 48/100\n",
      "1498/1498 [==============================] - 216s 144ms/step - loss: 3.7036 - mae: 1.4816\n",
      "Epoch 49/100\n",
      "1498/1498 [==============================] - 215s 144ms/step - loss: 4.1309 - mae: 1.5659\n",
      "Epoch 50/100\n",
      "1498/1498 [==============================] - 215s 144ms/step - loss: 3.7134 - mae: 1.4782\n",
      "Epoch 51/100\n",
      "1498/1498 [==============================] - 241s 161ms/step - loss: 3.8043 - mae: 1.4987\n",
      "Epoch 52/100\n",
      "1498/1498 [==============================] - 217s 145ms/step - loss: 3.3017 - mae: 1.3994\n",
      "Epoch 53/100\n",
      "1498/1498 [==============================] - 219s 146ms/step - loss: 3.2097 - mae: 1.3788\n",
      "Epoch 54/100\n",
      "1498/1498 [==============================] - 225s 150ms/step - loss: 3.6611 - mae: 1.4705\n",
      "Epoch 55/100\n",
      "1498/1498 [==============================] - 219s 146ms/step - loss: 3.7624 - mae: 1.4964\n",
      "Epoch 56/100\n",
      "1498/1498 [==============================] - 221s 147ms/step - loss: 3.8341 - mae: 1.5189\n",
      "Epoch 57/100\n",
      "1498/1498 [==============================] - 220s 147ms/step - loss: 3.6159 - mae: 1.4652\n",
      "Epoch 58/100\n",
      "1498/1498 [==============================] - 220s 147ms/step - loss: 3.3149 - mae: 1.3894\n",
      "Epoch 59/100\n",
      "1498/1498 [==============================] - 233s 156ms/step - loss: 3.3843 - mae: 1.4158\n",
      "Epoch 60/100\n",
      "1498/1498 [==============================] - 226s 151ms/step - loss: 3.5840 - mae: 1.4532\n",
      "Epoch 61/100\n",
      "1498/1498 [==============================] - 223s 149ms/step - loss: 4.3083 - mae: 1.6049\n",
      "Epoch 62/100\n",
      "1498/1498 [==============================] - 224s 150ms/step - loss: 3.7744 - mae: 1.4932\n",
      "Epoch 63/100\n",
      "1498/1498 [==============================] - 220s 147ms/step - loss: 4.1998 - mae: 1.5739\n",
      "Epoch 64/100\n",
      "1498/1498 [==============================] - 219s 146ms/step - loss: 3.9941 - mae: 1.5289\n",
      "Epoch 65/100\n",
      "1498/1498 [==============================] - 220s 147ms/step - loss: 3.8759 - mae: 1.5113\n",
      "Epoch 66/100\n",
      "1498/1498 [==============================] - 219s 146ms/step - loss: 3.8620 - mae: 1.5137\n",
      "Epoch 67/100\n",
      "1498/1498 [==============================] - 283s 189ms/step - loss: 4.8025 - mae: 1.6922\n",
      "Epoch 68/100\n",
      "1498/1498 [==============================] - 298s 199ms/step - loss: 3.5175 - mae: 1.4488\n",
      "Epoch 69/100\n",
      "1498/1498 [==============================] - 261s 174ms/step - loss: 3.3453 - mae: 1.4042\n",
      "Epoch 70/100\n",
      "1498/1498 [==============================] - 270s 180ms/step - loss: 3.9968 - mae: 1.5427\n",
      "Epoch 71/100\n",
      "1498/1498 [==============================] - 233s 155ms/step - loss: 3.2989 - mae: 1.3975\n",
      "Epoch 72/100\n",
      "1498/1498 [==============================] - 219s 146ms/step - loss: 3.1203 - mae: 1.3520\n",
      "Epoch 73/100\n",
      "1498/1498 [==============================] - 211s 141ms/step - loss: 3.2499 - mae: 1.3825\n",
      "Epoch 74/100\n",
      "1498/1498 [==============================] - 219s 146ms/step - loss: 3.1728 - mae: 1.3660\n",
      "Epoch 75/100\n",
      "1498/1498 [==============================] - 214s 143ms/step - loss: 3.2157 - mae: 1.3730\n",
      "Epoch 76/100\n",
      "1498/1498 [==============================] - 211s 141ms/step - loss: 3.5900 - mae: 1.4552\n",
      "Epoch 77/100\n",
      "1498/1498 [==============================] - 249s 166ms/step - loss: 3.5754 - mae: 1.4587\n",
      "Epoch 78/100\n",
      "1498/1498 [==============================] - 271s 181ms/step - loss: 3.5523 - mae: 1.4513\n",
      "Epoch 79/100\n",
      "1498/1498 [==============================] - 211s 141ms/step - loss: 4.0670 - mae: 1.5535\n",
      "Epoch 80/100\n"
     ]
    },
    {
     "name": "stdout",
     "output_type": "stream",
     "text": [
      "1498/1498 [==============================] - 212s 142ms/step - loss: 3.4524 - mae: 1.4337\n",
      "Epoch 81/100\n",
      "1498/1498 [==============================] - 206s 137ms/step - loss: 3.4997 - mae: 1.4422\n",
      "Epoch 82/100\n",
      "1498/1498 [==============================] - 215s 144ms/step - loss: 3.2098 - mae: 1.3657\n",
      "Epoch 83/100\n",
      "1498/1498 [==============================] - 222s 148ms/step - loss: 4.1248 - mae: 1.5653\n",
      "Epoch 84/100\n",
      "1498/1498 [==============================] - 206s 137ms/step - loss: 4.5144 - mae: 1.6427\n",
      "Epoch 85/100\n",
      "1498/1498 [==============================] - 206s 137ms/step - loss: 3.7176 - mae: 1.4684\n",
      "Epoch 86/100\n",
      "1498/1498 [==============================] - 208s 139ms/step - loss: 3.4305 - mae: 1.4183\n",
      "Epoch 87/100\n",
      "1498/1498 [==============================] - 205s 137ms/step - loss: 3.5829 - mae: 1.4461\n",
      "Epoch 88/100\n",
      "1498/1498 [==============================] - 207s 138ms/step - loss: 3.4027 - mae: 1.4243\n",
      "Epoch 89/100\n",
      "1498/1498 [==============================] - 210s 140ms/step - loss: 3.4152 - mae: 1.4162\n",
      "Epoch 90/100\n",
      "1498/1498 [==============================] - 205s 137ms/step - loss: 4.9281 - mae: 1.7239\n",
      "Epoch 91/100\n",
      "1498/1498 [==============================] - 222s 148ms/step - loss: 4.1832 - mae: 1.5779\n",
      "Epoch 92/100\n",
      "1498/1498 [==============================] - 206s 137ms/step - loss: 4.6120 - mae: 1.6691\n",
      "Epoch 93/100\n",
      "1498/1498 [==============================] - 254s 169ms/step - loss: 3.4369 - mae: 1.4255\n",
      "Epoch 94/100\n",
      "1498/1498 [==============================] - 223s 149ms/step - loss: 3.1647 - mae: 1.3674\n",
      "Epoch 95/100\n",
      "1498/1498 [==============================] - 260s 173ms/step - loss: 3.1505 - mae: 1.3623\n",
      "Epoch 96/100\n",
      "1498/1498 [==============================] - 232s 155ms/step - loss: 3.2972 - mae: 1.3963\n",
      "Epoch 97/100\n",
      "1498/1498 [==============================] - 239s 160ms/step - loss: 3.5713 - mae: 1.4504\n",
      "Epoch 98/100\n",
      "1498/1498 [==============================] - 248s 165ms/step - loss: 3.5145 - mae: 1.4378\n",
      "Epoch 99/100\n",
      "1498/1498 [==============================] - 281s 187ms/step - loss: 3.1647 - mae: 1.3667\n",
      "Epoch 100/100\n",
      "1498/1498 [==============================] - 255s 170ms/step - loss: 3.5557 - mae: 1.4525\n"
     ]
    }
   ],
   "source": [
    "hist = model.fit(X_train, y_train, epochs=100)"
   ]
  },
  {
   "cell_type": "code",
   "execution_count": 22,
   "metadata": {},
   "outputs": [
    {
     "name": "stdout",
     "output_type": "stream",
     "text": [
      "Test loss: 7.323203238371376\n",
      "Test accuracy: 2.3523290157318115\n"
     ]
    }
   ],
   "source": [
    "score = model.evaluate(X_test, y_test, verbose=0)\n",
    "print('Test loss:', score[0])\n",
    "print('Test accuracy:', score[1])"
   ]
  },
  {
   "cell_type": "code",
   "execution_count": 32,
   "metadata": {},
   "outputs": [
    {
     "name": "stdout",
     "output_type": "stream",
     "text": [
      "Test loss: 2.3028261951196973\n",
      "Test accuracy: 1.0839123725891113\n"
     ]
    }
   ],
   "source": [
    "score = model.evaluate(X_test, y_test, verbose=0)\n",
    "print('Test loss:', score[0])\n",
    "print('Test accuracy:', score[1])"
   ]
  },
  {
   "cell_type": "code",
   "execution_count": 35,
   "metadata": {},
   "outputs": [],
   "source": [
    "test['Image'] = test['Image'].apply(lambda x: np.fromstring(x, dtype=int, sep=' ').reshape((96,96)))"
   ]
  },
  {
   "cell_type": "code",
   "execution_count": 36,
   "metadata": {},
   "outputs": [],
   "source": [
    "test_X = np.asarray([test['Image']], dtype=np.uint8).reshape(test.shape[0],96,96,1)"
   ]
  },
  {
   "cell_type": "code",
   "execution_count": 37,
   "metadata": {},
   "outputs": [],
   "source": [
    "test_res = model.predict(test_X)"
   ]
  },
  {
   "cell_type": "code",
   "execution_count": 38,
   "metadata": {},
   "outputs": [],
   "source": [
    "train_predicts = model.predict(X_train)"
   ]
  },
  {
   "cell_type": "code",
   "execution_count": null,
   "metadata": {},
   "outputs": [],
   "source": []
  },
  {
   "cell_type": "code",
   "execution_count": null,
   "metadata": {},
   "outputs": [],
   "source": []
  },
  {
   "cell_type": "code",
   "execution_count": null,
   "metadata": {},
   "outputs": [],
   "source": []
  },
  {
   "cell_type": "code",
   "execution_count": null,
   "metadata": {},
   "outputs": [],
   "source": []
  },
  {
   "cell_type": "code",
   "execution_count": 39,
   "metadata": {},
   "outputs": [
    {
     "data": {
      "image/png": "[encoded data removed]",
      "text/plain": [
       "<Figure size 432x288 with 1 Axes>"
      ]
     },
     "metadata": {
      "needs_background": "light"
     },
     "output_type": "display_data"
    }
   ],
   "source": [
    "plt.imshow(X_train[0].reshape((96,96)), cmap='gray')\n",
    "\n",
    "for i in range(1,31,2):\n",
    "    plt.plot(train_predicts[0][i-1], train_predicts[0][i], 'ro')\n",
    "    plt.plot(y_train[0][i-1], y_train[0][i], 'x', color='blue')\n",
    "\n",
    "plt.show()"
   ]
  },
  {
   "cell_type": "code",
   "execution_count": 30,
   "metadata": {},
   "outputs": [
    {
     "data": {
      "image/png": "[encoded data removed]",
      "text/plain": [
       "<Figure size 432x288 with 1 Axes>"
      ]
     },
     "metadata": {
      "needs_background": "light"
     },
     "output_type": "display_data"
    }
   ],
   "source": [
    "plt.imshow(X_train[0].reshape((96,96)), cmap='gray')\n",
    "\n",
    "for i in range(1,31,2):\n",
    "    plt.plot(train_predicts[0][i-1], train_predicts[0][i], 'ro')\n",
    "    plt.plot(y_train[0][i-1], y_train[0][i], 'x', color='blue')\n",
    "\n",
    "plt.show()"
   ]
  },
  {
   "cell_type": "code",
   "execution_count": 40,
   "metadata": {},
   "outputs": [
    {
     "ename": "KeyError",
     "evalue": "'val_loss'",
     "output_type": "error",
     "traceback": [
      "\u001b[1;31m---------------------------------------------------------------------------\u001b[0m",
      "\u001b[1;31mKeyError\u001b[0m                                  Traceback (most recent call last)",
      "\u001b[1;32m<ipython-input-40-632796a0c30c>\u001b[0m in \u001b[0;36m<module>\u001b[1;34m\u001b[0m\n\u001b[0;32m     15\u001b[0m     \u001b[0mplt\u001b[0m\u001b[1;33m.\u001b[0m\u001b[0mplot\u001b[0m\u001b[1;33m(\u001b[0m\u001b[0mval_loss\u001b[0m\u001b[1;33m,\u001b[0m\u001b[0mlinewidth\u001b[0m\u001b[1;33m=\u001b[0m\u001b[1;36m3\u001b[0m\u001b[1;33m,\u001b[0m\u001b[0mlabel\u001b[0m\u001b[1;33m=\u001b[0m\u001b[1;34m\"val:\"\u001b[0m\u001b[1;33m+\u001b[0m\u001b[0mname\u001b[0m\u001b[1;33m)\u001b[0m\u001b[1;33m\u001b[0m\u001b[1;33m\u001b[0m\u001b[0m\n\u001b[0;32m     16\u001b[0m \u001b[1;33m\u001b[0m\u001b[0m\n\u001b[1;32m---> 17\u001b[1;33m \u001b[0mplot_loss\u001b[0m\u001b[1;33m(\u001b[0m\u001b[0mhist\u001b[0m\u001b[1;33m.\u001b[0m\u001b[0mhistory\u001b[0m\u001b[1;33m,\u001b[0m\u001b[1;34m\"model 1\"\u001b[0m\u001b[1;33m,\u001b[0m\u001b[0mplt\u001b[0m\u001b[1;33m)\u001b[0m\u001b[1;33m\u001b[0m\u001b[1;33m\u001b[0m\u001b[0m\n\u001b[0m\u001b[0;32m     18\u001b[0m \u001b[0mplt\u001b[0m\u001b[1;33m.\u001b[0m\u001b[0mlegend\u001b[0m\u001b[1;33m(\u001b[0m\u001b[1;33m)\u001b[0m\u001b[1;33m\u001b[0m\u001b[1;33m\u001b[0m\u001b[0m\n\u001b[0;32m     19\u001b[0m \u001b[0mplt\u001b[0m\u001b[1;33m.\u001b[0m\u001b[0mgrid\u001b[0m\u001b[1;33m(\u001b[0m\u001b[1;33m)\u001b[0m\u001b[1;33m\u001b[0m\u001b[1;33m\u001b[0m\u001b[0m\n",
      "\u001b[1;32m<ipython-input-40-632796a0c30c>\u001b[0m in \u001b[0;36mplot_loss\u001b[1;34m(hist, name, plt, RMSE_TF)\u001b[0m\n\u001b[0;32m      7\u001b[0m     '''\n\u001b[0;32m      8\u001b[0m     \u001b[0mloss\u001b[0m \u001b[1;33m=\u001b[0m \u001b[0mhist\u001b[0m\u001b[1;33m[\u001b[0m\u001b[1;34m'loss'\u001b[0m\u001b[1;33m]\u001b[0m\u001b[1;33m\u001b[0m\u001b[1;33m\u001b[0m\u001b[0m\n\u001b[1;32m----> 9\u001b[1;33m     \u001b[0mval_loss\u001b[0m \u001b[1;33m=\u001b[0m \u001b[0mhist\u001b[0m\u001b[1;33m[\u001b[0m\u001b[1;34m'val_loss'\u001b[0m\u001b[1;33m]\u001b[0m\u001b[1;33m\u001b[0m\u001b[1;33m\u001b[0m\u001b[0m\n\u001b[0m\u001b[0;32m     10\u001b[0m     \u001b[1;32mif\u001b[0m \u001b[0mRMSE_TF\u001b[0m\u001b[1;33m:\u001b[0m\u001b[1;33m\u001b[0m\u001b[1;33m\u001b[0m\u001b[0m\n\u001b[0;32m     11\u001b[0m         \u001b[0mloss\u001b[0m \u001b[1;33m=\u001b[0m \u001b[0mnp\u001b[0m\u001b[1;33m.\u001b[0m\u001b[0msqrt\u001b[0m\u001b[1;33m(\u001b[0m\u001b[0mnp\u001b[0m\u001b[1;33m.\u001b[0m\u001b[0marray\u001b[0m\u001b[1;33m(\u001b[0m\u001b[0mloss\u001b[0m\u001b[1;33m)\u001b[0m\u001b[1;33m)\u001b[0m\u001b[1;33m*\u001b[0m\u001b[1;36m48\u001b[0m\u001b[1;33m\u001b[0m\u001b[1;33m\u001b[0m\u001b[0m\n",
      "\u001b[1;31mKeyError\u001b[0m: 'val_loss'"
     ]
    }
   ],
   "source": [
    "import matplotlib.pyplot as plt\n",
    "%matplotlib inline\n",
    "\n",
    "def plot_loss(hist,name,plt,RMSE_TF=False):\n",
    "    '''\n",
    "    RMSE_TF: if True, then RMSE is plotted with original scale \n",
    "    '''\n",
    "    loss = hist['loss']\n",
    "    val_loss = hist['val_loss']\n",
    "    if RMSE_TF:\n",
    "        loss = np.sqrt(np.array(loss))*48 \n",
    "        val_loss = np.sqrt(np.array(val_loss))*48 \n",
    "        \n",
    "    plt.plot(loss,\"--\",linewidth=3,label=\"train:\"+name)\n",
    "    plt.plot(val_loss, linewidth=3,label=\"val:\"+name)\n",
    "\n",
    "plot_loss(hist.history,\"model 1\",plt)\n",
    "plt.legend()\n",
    "plt.grid()\n",
    "plt.yscale(\"log\")\n",
    "plt.xlabel(\"epoch\")\n",
    "plt.ylabel(\"log loss\")\n",
    "plt.show()"
   ]
  },
  {
   "cell_type": "code",
   "execution_count": null,
   "metadata": {},
   "outputs": [],
   "source": []
  },
  {
   "cell_type": "code",
   "execution_count": null,
   "metadata": {},
   "outputs": [],
   "source": []
  },
  {
   "cell_type": "code",
   "execution_count": null,
   "metadata": {},
   "outputs": [],
   "source": []
  },
  {
   "cell_type": "code",
   "execution_count": null,
   "metadata": {},
   "outputs": [],
   "source": []
  },
  {
   "cell_type": "code",
   "execution_count": null,
   "metadata": {},
   "outputs": [],
   "source": []
  },
  {
   "cell_type": "code",
   "execution_count": null,
   "metadata": {},
   "outputs": [],
   "source": []
  },
  {
   "cell_type": "code",
   "execution_count": 145,
   "metadata": {},
   "outputs": [
    {
     "data": {
      "image/png": "[encoded data removed]",
      "text/plain": [
       "<Figure size 432x288 with 1 Axes>"
      ]
     },
     "metadata": {
      "needs_background": "light"
     },
     "output_type": "display_data"
    }
   ],
   "source": [
    "plt.imshow(X_train[0].reshape((96,96)), cmap='gray')\n",
    "\n",
    "for i in range(1,31,2):\n",
    "    plt.plot(train_predicts[0][i-1], train_predicts[0][i], 'ro')\n",
    "    plt.plot(y_train[0][i-1], y_train[0][i], 'x', color='green')\n",
    "\n",
    "plt.show()"
   ]
  },
  {
   "cell_type": "code",
   "execution_count": 45,
   "metadata": {},
   "outputs": [
    {
     "data": {
      "text/html": [
       "<div>\n",
       "<style scoped>\n",
       "    .dataframe tbody tr th:only-of-type {\n",
       "        vertical-align: middle;\n",
       "    }\n",
       "\n",
       "    .dataframe tbody tr th {\n",
       "        vertical-align: top;\n",
       "    }\n",
       "\n",
       "    .dataframe thead th {\n",
       "        text-align: right;\n",
       "    }\n",
       "</style>\n",
       "<table border=\"1\" class=\"dataframe\">\n",
       "  <thead>\n",
       "    <tr style=\"text-align: right;\">\n",
       "      <th></th>\n",
       "      <th>RowId</th>\n",
       "      <th>ImageId</th>\n",
       "      <th>FeatureName</th>\n",
       "      <th>Location</th>\n",
       "    </tr>\n",
       "  </thead>\n",
       "  <tbody>\n",
       "    <tr>\n",
       "      <th>0</th>\n",
       "      <td>1</td>\n",
       "      <td>1</td>\n",
       "      <td>left_eye_center_x</td>\n",
       "      <td>NaN</td>\n",
       "    </tr>\n",
       "    <tr>\n",
       "      <th>1</th>\n",
       "      <td>2</td>\n",
       "      <td>1</td>\n",
       "      <td>left_eye_center_y</td>\n",
       "      <td>NaN</td>\n",
       "    </tr>\n",
       "    <tr>\n",
       "      <th>2</th>\n",
       "      <td>3</td>\n",
       "      <td>1</td>\n",
       "      <td>right_eye_center_x</td>\n",
       "      <td>NaN</td>\n",
       "    </tr>\n",
       "    <tr>\n",
       "      <th>3</th>\n",
       "      <td>4</td>\n",
       "      <td>1</td>\n",
       "      <td>right_eye_center_y</td>\n",
       "      <td>NaN</td>\n",
       "    </tr>\n",
       "    <tr>\n",
       "      <th>4</th>\n",
       "      <td>5</td>\n",
       "      <td>1</td>\n",
       "      <td>left_eye_inner_corner_x</td>\n",
       "      <td>NaN</td>\n",
       "    </tr>\n",
       "    <tr>\n",
       "      <th>...</th>\n",
       "      <td>...</td>\n",
       "      <td>...</td>\n",
       "      <td>...</td>\n",
       "      <td>...</td>\n",
       "    </tr>\n",
       "    <tr>\n",
       "      <th>27119</th>\n",
       "      <td>27120</td>\n",
       "      <td>1783</td>\n",
       "      <td>right_eye_center_y</td>\n",
       "      <td>NaN</td>\n",
       "    </tr>\n",
       "    <tr>\n",
       "      <th>27120</th>\n",
       "      <td>27121</td>\n",
       "      <td>1783</td>\n",
       "      <td>nose_tip_x</td>\n",
       "      <td>NaN</td>\n",
       "    </tr>\n",
       "    <tr>\n",
       "      <th>27121</th>\n",
       "      <td>27122</td>\n",
       "      <td>1783</td>\n",
       "      <td>nose_tip_y</td>\n",
       "      <td>NaN</td>\n",
       "    </tr>\n",
       "    <tr>\n",
       "      <th>27122</th>\n",
       "      <td>27123</td>\n",
       "      <td>1783</td>\n",
       "      <td>mouth_center_bottom_lip_x</td>\n",
       "      <td>NaN</td>\n",
       "    </tr>\n",
       "    <tr>\n",
       "      <th>27123</th>\n",
       "      <td>27124</td>\n",
       "      <td>1783</td>\n",
       "      <td>mouth_center_bottom_lip_y</td>\n",
       "      <td>NaN</td>\n",
       "    </tr>\n",
       "  </tbody>\n",
       "</table>\n",
       "<p>27124 rows × 4 columns</p>\n",
       "</div>"
      ],
      "text/plain": [
       "       RowId  ImageId                FeatureName  Location\n",
       "0          1        1          left_eye_center_x       NaN\n",
       "1          2        1          left_eye_center_y       NaN\n",
       "2          3        1         right_eye_center_x       NaN\n",
       "3          4        1         right_eye_center_y       NaN\n",
       "4          5        1    left_eye_inner_corner_x       NaN\n",
       "...      ...      ...                        ...       ...\n",
       "27119  27120     1783         right_eye_center_y       NaN\n",
       "27120  27121     1783                 nose_tip_x       NaN\n",
       "27121  27122     1783                 nose_tip_y       NaN\n",
       "27122  27123     1783  mouth_center_bottom_lip_x       NaN\n",
       "27123  27124     1783  mouth_center_bottom_lip_y       NaN\n",
       "\n",
       "[27124 rows x 4 columns]"
      ]
     },
     "execution_count": 45,
     "metadata": {},
     "output_type": "execute_result"
    }
   ],
   "source": [
    "IdLookupTable"
   ]
  },
  {
   "cell_type": "code",
   "execution_count": null,
   "metadata": {},
   "outputs": [],
   "source": []
  },
  {
   "cell_type": "code",
   "execution_count": null,
   "metadata": {},
   "outputs": [],
   "source": []
  },
  {
   "cell_type": "markdown",
   "metadata": {},
   "source": [
    "#### Retorna o valor da perda e os valores das métricas para o modelo no modo de teste"
   ]
  },
  {
   "cell_type": "code",
   "execution_count": 41,
   "metadata": {},
   "outputs": [
    {
     "name": "stdout",
     "output_type": "stream",
     "text": [
      "Test loss: 7.080679958854509\n",
      "Test accuracy: 2.2738702297210693\n"
     ]
    }
   ],
   "source": [
    "score = model.evaluate(X_test, y_test, verbose=0)\n",
    "print('Test loss:', score[0])\n",
    "print('Test accuracy:', score[1])"
   ]
  },
  {
   "cell_type": "code",
   "execution_count": null,
   "metadata": {},
   "outputs": [],
   "source": []
  },
  {
   "cell_type": "markdown",
   "metadata": {},
   "source": [
    "#### 2 epocas"
   ]
  },
  {
   "cell_type": "code",
   "execution_count": null,
   "metadata": {},
   "outputs": [],
   "source": []
  },
  {
   "cell_type": "code",
   "execution_count": 42,
   "metadata": {},
   "outputs": [],
   "source": [
    "test['Image'] = test['Image'].apply(lambda x: np.fromstring(x, dtype=int, sep=' ').reshape((96,96)))"
   ]
  },
  {
   "cell_type": "code",
   "execution_count": null,
   "metadata": {},
   "outputs": [],
   "source": []
  },
  {
   "cell_type": "code",
   "execution_count": 43,
   "metadata": {},
   "outputs": [],
   "source": [
    "test_X = np.asarray([test['Image']], dtype=np.uint8).reshape(test.shape[0],96,96,1)"
   ]
  },
  {
   "cell_type": "code",
   "execution_count": null,
   "metadata": {},
   "outputs": [],
   "source": []
  },
  {
   "cell_type": "code",
   "execution_count": 54,
   "metadata": {},
   "outputs": [
    {
     "ename": "NameError",
     "evalue": "name 'model' is not defined",
     "output_type": "error",
     "traceback": [
      "\u001b[1;31m---------------------------------------------------------------------------\u001b[0m",
      "\u001b[1;31mNameError\u001b[0m                                 Traceback (most recent call last)",
      "\u001b[1;32m<ipython-input-54-2b19b0e38191>\u001b[0m in \u001b[0;36m<module>\u001b[1;34m\u001b[0m\n\u001b[1;32m----> 1\u001b[1;33m \u001b[0mtest_res\u001b[0m \u001b[1;33m=\u001b[0m \u001b[0mmodel\u001b[0m\u001b[1;33m.\u001b[0m\u001b[0mpredict\u001b[0m\u001b[1;33m(\u001b[0m\u001b[0mtest_X\u001b[0m\u001b[1;33m)\u001b[0m\u001b[1;33m\u001b[0m\u001b[1;33m\u001b[0m\u001b[0m\n\u001b[0m",
      "\u001b[1;31mNameError\u001b[0m: name 'model' is not defined"
     ]
    }
   ],
   "source": [
    "test_res = model.predict(test_X)"
   ]
  },
  {
   "cell_type": "code",
   "execution_count": null,
   "metadata": {},
   "outputs": [],
   "source": []
  },
  {
   "cell_type": "code",
   "execution_count": 45,
   "metadata": {},
   "outputs": [],
   "source": [
    "train_predicts = model.predict(X_train)"
   ]
  },
  {
   "cell_type": "code",
   "execution_count": null,
   "metadata": {},
   "outputs": [],
   "source": []
  },
  {
   "cell_type": "code",
   "execution_count": 46,
   "metadata": {},
   "outputs": [
    {
     "data": {
      "image/png": "[encoded data removed]",
      "text/plain": [
       "<Figure size 432x288 with 1 Axes>"
      ]
     },
     "metadata": {
      "needs_background": "light"
     },
     "output_type": "display_data"
    }
   ],
   "source": [
    "plt.imshow(X_train[0].reshape((96,96)), cmap='gray')\n",
    "\n",
    "for i in range(1,31,2):\n",
    "    plt.plot(train_predicts[0][i-1], train_predicts[0][i], 'ro')\n",
    "    plt.plot(y_train[0][i-1], y_train[0][i], 'x', color='green')\n",
    "\n",
    "plt.show()"
   ]
  },
  {
   "cell_type": "code",
   "execution_count": null,
   "metadata": {},
   "outputs": [],
   "source": [
    "50 epocas"
   ]
  },
  {
   "cell_type": "code",
   "execution_count": 49,
   "metadata": {},
   "outputs": [
    {
     "data": {
      "image/png": "[encoded data removed]",
      "text/plain": [
       "<Figure size 432x288 with 1 Axes>"
      ]
     },
     "metadata": {
      "needs_background": "light"
     },
     "output_type": "display_data"
    }
   ],
   "source": [
    "plt.imshow(X_train[0].reshape((96,96)), cmap='gray')\n",
    "\n",
    "for i in range(1,31,2):\n",
    "    plt.plot(train_predicts[0][i-1], train_predicts[0][i], 'ro')\n",
    "    plt.plot(y_train[0][i-1], y_train[0][i], 'x', color='green')\n",
    "\n",
    "plt.show()"
   ]
  },
  {
   "cell_type": "code",
   "execution_count": null,
   "metadata": {},
   "outputs": [],
   "source": []
  },
  {
   "cell_type": "code",
   "execution_count": 53,
   "metadata": {},
   "outputs": [
    {
     "data": {
      "image/png": "[encoded data removed]",
      "text/plain": [
       "<Figure size 432x288 with 1 Axes>"
      ]
     },
     "metadata": {
      "needs_background": "light"
     },
     "output_type": "display_data"
    }
   ],
   "source": [
    "plt.imshow(X_train[0].reshape((96,96)), cmap='gray')\n",
    "\n",
    "for i in range(1,31,2):\n",
    "    plt.plot(train_predicts[0][i-1], train_predicts[0][i], 'ro')\n",
    "    plt.plot(y_train[0][i-1], y_train[0][i], 'x', color='green')\n",
    "\n",
    "plt.show()"
   ]
  },
  {
   "cell_type": "code",
   "execution_count": 54,
   "metadata": {},
   "outputs": [],
   "source": [
    "header = list(y.columns)"
   ]
  },
  {
   "cell_type": "code",
   "execution_count": 53,
   "metadata": {},
   "outputs": [],
   "source": [
    "#"
   ]
  },
  {
   "cell_type": "code",
   "execution_count": 55,
   "metadata": {},
   "outputs": [],
   "source": [
    "test_predicts = pd.DataFrame(test_res, columns = header)"
   ]
  },
  {
   "cell_type": "code",
   "execution_count": 56,
   "metadata": {},
   "outputs": [
    {
     "name": "stderr",
     "output_type": "stream",
     "text": [
      "c:\\users\\alexandre\\miniconda3\\envs\\tensorflow\\lib\\site-packages\\ipykernel_launcher.py:2: SettingWithCopyWarning: \n",
      "A value is trying to be set on a copy of a slice from a DataFrame\n",
      "\n",
      "See the caveats in the documentation: http://pandas.pydata.org/pandas-docs/stable/user_guide/indexing.html#returning-a-view-versus-a-copy\n",
      "  \n"
     ]
    }
   ],
   "source": [
    "for i in range(IdLookupTable.shape[0]):\n",
    "    IdLookupTable.Location[i] = test_predicts.loc[IdLookupTable.ImageId[i]-1][IdLookupTable.FeatureName[i]]"
   ]
  },
  {
   "cell_type": "code",
   "execution_count": 57,
   "metadata": {},
   "outputs": [],
   "source": [
    "SampleSubmission.Location = IdLookupTable.Location"
   ]
  },
  {
   "cell_type": "code",
   "execution_count": 58,
   "metadata": {},
   "outputs": [],
   "source": [
    "SampleSubmission.to_csv('submission_50_epochs.csv', index=False)"
   ]
  }
 ],
 "metadata": {
  "kernelspec": {
   "display_name": "Python 3",
   "language": "python",
   "name": "python3"
  },
  "language_info": {
   "codemirror_mode": {
    "name": "ipython",
    "version": 3
   },
   "file_extension": ".py",
   "mimetype": "text/x-python",
   "name": "python",
   "nbconvert_exporter": "python",
   "pygments_lexer": "ipython3",
   "version": "3.6.10"
  }
 },
 "nbformat": 4,
 "nbformat_minor": 4
}
