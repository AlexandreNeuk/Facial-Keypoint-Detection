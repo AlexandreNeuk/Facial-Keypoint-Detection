{
 "cells": [
  {
   "cell_type": "code",
   "execution_count": 1,
   "metadata": {},
   "outputs": [
    {
     "name": "stdout",
     "output_type": "stream",
     "text": [
      "Requirement already satisfied: h5py in c:\\users\\alexandre\\miniconda3\\envs\\tensorflow\\lib\\site-packages (2.9.0)\n",
      "Requirement already satisfied: six in c:\\users\\alexandre\\miniconda3\\envs\\tensorflow\\lib\\site-packages (from h5py) (1.13.0)\n",
      "Requirement already satisfied: numpy>=1.7 in c:\\users\\alexandre\\miniconda3\\envs\\tensorflow\\lib\\site-packages (from h5py) (1.17.4)\n",
      "Note: you may need to restart the kernel to use updated packages.\n"
     ]
    }
   ],
   "source": [
    "pip install h5py"
   ]
  },
  {
   "cell_type": "code",
   "execution_count": 2,
   "metadata": {},
   "outputs": [],
   "source": [
    "import numpy as np\n",
    "import h5py"
   ]
  },
  {
   "cell_type": "code",
   "execution_count": 11,
   "metadata": {},
   "outputs": [
    {
     "name": "stdout",
     "output_type": "stream",
     "text": [
      "List \n",
      "  ['model_weights', 'optimizer_weights']\n"
     ]
    }
   ],
   "source": [
    "with h5py.File('layer10_epoc100_kernel7p7_drop0p1.hdf5', 'r') as hdf:\n",
    "    ls = list(hdf.keys())\n",
    "    print('List \\n ', ls)\n",
    "    model_weights = hdf.get('model_weights')\n",
    "    model_weights = np.array(model_weights)"
   ]
  },
  {
   "cell_type": "code",
   "execution_count": 18,
   "metadata": {},
   "outputs": [
    {
     "data": {
      "text/plain": [
       "'batch_normalization_3'"
      ]
     },
     "execution_count": 18,
     "metadata": {},
     "output_type": "execute_result"
    }
   ],
   "source": [
    "model_weights[3]"
   ]
  },
  {
   "cell_type": "code",
   "execution_count": 19,
   "metadata": {},
   "outputs": [
    {
     "data": {
      "text/plain": [
       "array(['batch_normalization_1', 'batch_normalization_10',\n",
       "       'batch_normalization_2', 'batch_normalization_3',\n",
       "       'batch_normalization_4', 'batch_normalization_5',\n",
       "       'batch_normalization_6', 'batch_normalization_7',\n",
       "       'batch_normalization_8', 'batch_normalization_9', 'conv2d_1',\n",
       "       'conv2d_10', 'conv2d_2', 'conv2d_3', 'conv2d_4', 'conv2d_5',\n",
       "       'conv2d_6', 'conv2d_7', 'conv2d_8', 'conv2d_9', 'dense_1',\n",
       "       'dense_2', 'dropout_1', 'flatten_1', 'leaky_re_lu_1',\n",
       "       'leaky_re_lu_10', 'leaky_re_lu_2', 'leaky_re_lu_3',\n",
       "       'leaky_re_lu_4', 'leaky_re_lu_5', 'leaky_re_lu_6', 'leaky_re_lu_7',\n",
       "       'leaky_re_lu_8', 'leaky_re_lu_9', 'max_pooling2d_1',\n",
       "       'max_pooling2d_2', 'max_pooling2d_3', 'max_pooling2d_4',\n",
       "       'max_pooling2d_5'], dtype='<U22')"
      ]
     },
     "execution_count": 19,
     "metadata": {},
     "output_type": "execute_result"
    }
   ],
   "source": [
    "model_weights"
   ]
  },
  {
   "cell_type": "code",
   "execution_count": null,
   "metadata": {},
   "outputs": [],
   "source": []
  }
 ],
 "metadata": {
  "kernelspec": {
   "display_name": "Python 3",
   "language": "python",
   "name": "python3"
  },
  "language_info": {
   "codemirror_mode": {
    "name": "ipython",
    "version": 3
   },
   "file_extension": ".py",
   "mimetype": "text/x-python",
   "name": "python",
   "nbconvert_exporter": "python",
   "pygments_lexer": "ipython3",
   "version": "3.6.10"
  }
 },
 "nbformat": 4,
 "nbformat_minor": 4
}
